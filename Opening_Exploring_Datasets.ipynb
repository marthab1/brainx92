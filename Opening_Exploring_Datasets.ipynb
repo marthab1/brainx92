{
  "nbformat": 4,
  "nbformat_minor": 0,
  "metadata": {
    "colab": {
      "provenance": [],
      "authorship_tag": "ABX9TyM21efU9uWHDoFgdPEcim/K",
      "include_colab_link": true
    },
    "kernelspec": {
      "name": "python3",
      "display_name": "Python 3"
    },
    "language_info": {
      "name": "python"
    }
  },
  "cells": [
    {
      "cell_type": "markdown",
      "metadata": {
        "id": "view-in-github",
        "colab_type": "text"
      },
      "source": [
        "<a href=\"https://colab.research.google.com/github/marthab1/brainx92/blob/master/Opening_Exploring_Datasets.ipynb\" target=\"_parent\"><img src=\"https://colab.research.google.com/assets/colab-badge.svg\" alt=\"Open In Colab\"/></a>"
      ]
    },
    {
      "cell_type": "markdown",
      "source": [
        "This script will open and compare datasets that are preloaded onto google drive. You can then make specific subsets of data and save them into new files."
      ],
      "metadata": {
        "id": "kcwov8r960lJ"
      }
    },
    {
      "cell_type": "markdown",
      "source": [
        "The first step is to ensure that you can manipulate your data with the Python packages called pandas and numpy. We will use shortcuts to refer to these packages, so we import them and rename them by their shortcuts, pd and np."
      ],
      "metadata": {
        "id": "WajASM23JRhI"
      }
    },
    {
      "cell_type": "code",
      "execution_count": 1,
      "metadata": {
        "id": "7Nu95Las2fbI"
      },
      "outputs": [],
      "source": [
        "import pandas as pd"
      ]
    },
    {
      "cell_type": "code",
      "source": [
        "import numpy as np"
      ],
      "metadata": {
        "id": "7KQPacbPJjir"
      },
      "execution_count": 2,
      "outputs": []
    },
    {
      "cell_type": "markdown",
      "source": [
        "Next, we need to connect to your Google Drive account (provided by UA). You need to be logged into your UA Google account, NOT your personal google account (if you have one) to be able to access the files for class."
      ],
      "metadata": {
        "id": "X02rCxsrJz08"
      }
    },
    {
      "cell_type": "code",
      "source": [
        "from google.colab import drive\n",
        "drive.mount('/content/gdrive')"
      ],
      "metadata": {
        "colab": {
          "base_uri": "https://localhost:8080/"
        },
        "id": "z71VuyUiJ-4H",
        "outputId": "26205e80-d058-49ce-bc99-82bdf8c8c31c"
      },
      "execution_count": 3,
      "outputs": [
        {
          "output_type": "stream",
          "name": "stdout",
          "text": [
            "Mounted at /content/gdrive\n"
          ]
        }
      ]
    },
    {
      "cell_type": "markdown",
      "source": [
        "Now, with google drive mounted, you can click on the folder in the L hand menu (Files) and navigate to the folder called \"Bioinformatics Raw Data\" that has been shared with you. When you hover over the file, you can click on the three dots that appear on the R, and pick \"copy file path\".\n",
        "\n",
        "In the below command, we will open a comma-separated values (csv) file that has information about what is the fly gene that is the ortholog of each human gene. You will need to type a slash and this file name after the path when you update the script below. Copy this:\n",
        "/hd_fly_ortholog.csv\n",
        "...and add it, then run the code."
      ],
      "metadata": {
        "id": "bns-Vaj3NZgN"
      }
    },
    {
      "cell_type": "code",
      "source": [
        "orthologs = pd.read_csv(\"/content/gdrive/MyDrive/BrainVIP/Fall 2023/Bioinformatics Raw Data/hd_fly_ortholog.csv\")"
      ],
      "metadata": {
        "id": "h3tf7yN3Kpf3"
      },
      "execution_count": 14,
      "outputs": []
    },
    {
      "cell_type": "markdown",
      "source": [
        "You can look at the first few lines of the file by applying the .head (think \"header\") command."
      ],
      "metadata": {
        "id": "eRvQOjrdQFjh"
      }
    },
    {
      "cell_type": "code",
      "source": [
        "print(orthologs.head())\n"
      ],
      "metadata": {
        "colab": {
          "base_uri": "https://localhost:8080/"
        },
        "id": "nwAAnj4UP3zt",
        "outputId": "0363308a-766d-4417-a2ca-69e690de03cf"
      },
      "execution_count": 26,
      "outputs": [
        {
          "output_type": "stream",
          "name": "stdout",
          "text": [
            "        Ensembl_id Human_gene     HGNC_id       Fly_gene         FBgn\n",
            "0  ENSG00000276410      H2BC3   HGNC:4751  His2B:CG33878  FBgn0053878\n",
            "1  ENSG00000112337    SLC17A2  HGNC:10930         CG3649  FBgn0034785\n",
            "2  ENSG00000163286       ALPG    HGNC:441           Alp7  FBgn0034710\n",
            "3  ENSG00000169933     FRMPD4  HGNC:29007        CG42788  FBgn0261859\n",
            "4  ENSG00000273802      H2BC8   HGNC:4746  His2B:CG33878  FBgn0053878\n"
          ]
        }
      ]
    },
    {
      "cell_type": "markdown",
      "source": [
        "Let's say we're interested in finding out fly gene correspondonding to the human TARDBP gene (which encodes TDP-43, a protein that aggregates in ALS.) We need to query the data set using a few commands put together.\n",
        "\n",
        "To do this, we will use the pandas command .loc, which means locate. There will be a set of square brackets after this, and we'll explain what we want to locate inside them.\n",
        "\n",
        "We can access a subset of our dataframe called orthologs by saying that we want the value in the Human_gene column to be exactly (==) TARDBP. Because these are not numbers but strings (i.e. a series of letters) we need to put them in quotes when we put them into the code.\n",
        "\n",
        "After the comma, we put what we want the code to return to us from that line. In this case, it is the value in the Fly_gene column. We are not putting any filters on what value this box has (so .values[0])."
      ],
      "metadata": {
        "id": "Lyd1qhDEQ8_6"
      }
    },
    {
      "cell_type": "code",
      "source": [
        "fly_gene_TARDBP = orthologs.loc[orthologs['Human_gene'] == \"TARDBP\", 'Fly_gene'].values[0]\n",
        "print(fly_gene_TARDBP)"
      ],
      "metadata": {
        "colab": {
          "base_uri": "https://localhost:8080/"
        },
        "id": "02hfN5FaRPMC",
        "outputId": "498c0663-bd67-4463-a3a9-46bae162eefd"
      },
      "execution_count": 22,
      "outputs": [
        {
          "output_type": "stream",
          "name": "stdout",
          "text": [
            "TBPH\n"
          ]
        }
      ]
    },
    {
      "cell_type": "markdown",
      "source": [
        "Assignment Part 1: Try this for a few genes given here: APP, BRCA1, MYC, JUN. Hover over this cell and hit +Code, then copy/paste in the above command and change it for what you want to look up! Report the results in your team notebook for Week 1."
      ],
      "metadata": {
        "id": "-lXoFE6jUyPQ"
      }
    },
    {
      "cell_type": "markdown",
      "source": [
        "The next part of your assignment is to open another file that we'll use for our data: subcellular localization information. Use the above commands to open \"HPA_predicted_secreted_1708.txt\". This time, beause it's a text file, we need to use pd.read_table rather than pd.read_csv."
      ],
      "metadata": {
        "id": "1b3BkUI_V41J"
      }
    },
    {
      "cell_type": "code",
      "source": [
        "secreted = pd.read_table(\"/content/gdrive/MyDrive/BrainVIP/Fall 2023/Bioinformatics Raw Data/HPA_predicted_secreted_1708.txt\")"
      ],
      "metadata": {
        "id": "t2hDFqe7WROp"
      },
      "execution_count": 30,
      "outputs": []
    },
    {
      "cell_type": "markdown",
      "source": [
        "Assignment part 2:"
      ],
      "metadata": {
        "id": "7PQJIUvAbh5E"
      }
    },
    {
      "cell_type": "markdown",
      "source": [
        "We will also import some graphing (\"plotting\") functions from a python library called matplotlib (math and plotting library). We'll nickname these plt."
      ],
      "metadata": {
        "id": "f7pOEUMlbB8x"
      }
    },
    {
      "cell_type": "code",
      "source": [
        "from matplotlib import pyplot as plt"
      ],
      "metadata": {
        "id": "cGZPaMD0aecw"
      },
      "execution_count": 39,
      "outputs": []
    },
    {
      "cell_type": "code",
      "source": [],
      "metadata": {
        "id": "0tV5oGw0bSuq"
      },
      "execution_count": null,
      "outputs": []
    }
  ]
}